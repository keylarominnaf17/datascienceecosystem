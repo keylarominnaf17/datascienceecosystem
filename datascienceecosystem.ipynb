{
 "cells": [
  {
   "cell_type": "markdown",
   "id": "423825cf-5963-454a-b985-20ccc7d9d5d1",
   "metadata": {},
   "source": [
    "# Data Science Tools and Ecosystem\n"
   ]
  },
  {
   "cell_type": "markdown",
   "id": "5d2f7f9a-27f9-415f-9b7a-dce5e9d4df8e",
   "metadata": {},
   "source": [
    "In this notebook, Data Science Tools and Ecosystem are summarized."
   ]
  },
  {
   "cell_type": "markdown",
   "id": "f98ae99a-de74-40c6-b405-af1fd072af6c",
   "metadata": {},
   "source": [
    "**Objectives:**\n",
    "\n",
    "- List popular languages for Data Science\n",
    "- List commonly used libraries in Data Science\n",
    "- Create and execute code cells\n",
    "- Convert minutes to hours in Python\n",
    "- Perform basic arithmetic operations in Python\n"
   ]
  },
  {
   "cell_type": "markdown",
   "id": "be184091-0372-4feb-a6f1-d945ce40919d",
   "metadata": {},
   "source": [
    "Some of the popular languages that Data Scientists use are:\n",
    "1. Python\n",
    "2. R\n",
    "3. SQL\n",
    "4. Julia\n",
    "5. Java\n"
   ]
  },
  {
   "cell_type": "markdown",
   "id": "085a6038-0069-4d05-b085-5c0fd3812754",
   "metadata": {},
   "source": [
    "Some of the commonly used libraries used by Data Scientists include:\n",
    "1. NumPy\n",
    "2. pandas\n",
    "3. scikit-learn\n",
    "4. TensorFlow\n",
    "5. Keras\n"
   ]
  },
  {
   "cell_type": "markdown",
   "id": "c9aacca0-e43a-4323-89d2-a6accba59696",
   "metadata": {},
   "source": [
    "| Data Science Tools |\n",
    "|--------------------|\n",
    "| Jupyter Notebook   |\n",
    "| RStudio            |\n",
    "| Apache Zeppelin    |\n"
   ]
  },
  {
   "cell_type": "markdown",
   "id": "346da37c-9dd4-4b65-b2a4-68b0a9f516f9",
   "metadata": {
    "tags": []
   },
   "source": [
    "### Below are a few examples of evaluating arithmetic expressions in Python."
   ]
  },
  {
   "cell_type": "code",
   "execution_count": 5,
   "id": "9179b8b4-0359-425c-b1ce-57b24b6fdc38",
   "metadata": {
    "tags": []
   },
   "outputs": [
    {
     "data": {
      "text/plain": [
       "17"
      ]
     },
     "execution_count": 5,
     "metadata": {},
     "output_type": "execute_result"
    }
   ],
   "source": [
    "# This is a simple arithmetic expression to multiply then add integers\n",
    "(3 * 4) + 5\n"
   ]
  },
  {
   "cell_type": "code",
   "execution_count": 6,
   "id": "36b34e2e-5ba8-4c20-87de-c36076ab15d3",
   "metadata": {
    "tags": []
   },
   "outputs": [
    {
     "data": {
      "text/plain": [
       "3.3333333333333335"
      ]
     },
     "execution_count": 6,
     "metadata": {},
     "output_type": "execute_result"
    }
   ],
   "source": [
    "# This will convert 200 minutes into hours by dividing by 60\n",
    "200 / 60"
   ]
  },
  {
   "cell_type": "markdown",
   "id": "2db9de25-bc1a-4413-ae60-70f265c7b230",
   "metadata": {},
   "source": [
    "## Author\n",
    "\n",
    "Keyla Romina Femat Gallego\n"
   ]
  },
  {
   "cell_type": "code",
   "execution_count": null,
   "id": "1ab30662-dfe2-4dd2-af02-498380ae87e1",
   "metadata": {},
   "outputs": [],
   "source": []
  }
 ],
 "metadata": {
  "kernelspec": {
   "display_name": "Python",
   "language": "python",
   "name": "conda-env-python-py"
  },
  "language_info": {
   "codemirror_mode": {
    "name": "ipython",
    "version": 3
   },
   "file_extension": ".py",
   "mimetype": "text/x-python",
   "name": "python",
   "nbconvert_exporter": "python",
   "pygments_lexer": "ipython3",
   "version": "3.7.12"
  }
 },
 "nbformat": 4,
 "nbformat_minor": 5
}
